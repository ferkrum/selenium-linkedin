{
 "cells": [
  {
   "cell_type": "code",
   "execution_count": 1,
   "metadata": {},
   "outputs": [
    {
     "name": "stdout",
     "output_type": "stream",
     "text": [
      "Requirement already satisfied: selenium==3.141.0 in /Users/ferkrum/opt/anaconda3/lib/python3.9/site-packages (3.141.0)\n",
      "Requirement already satisfied: urllib3 in /Users/ferkrum/opt/anaconda3/lib/python3.9/site-packages (from selenium==3.141.0) (1.26.7)\n",
      "Note: you may need to restart the kernel to use updated packages.\n"
     ]
    }
   ],
   "source": [
    "pip install selenium==3.141.0"
   ]
  },
  {
   "cell_type": "markdown",
   "metadata": {},
   "source": []
  },
  {
   "cell_type": "code",
   "execution_count": 2,
   "metadata": {},
   "outputs": [
    {
     "name": "stdout",
     "output_type": "stream",
     "text": [
      "\n",
      "Usage:   \n",
      "  /Users/ferkrum/opt/anaconda3/bin/python -m pip install [options] <requirement specifier> [package-index-options] ...\n",
      "  /Users/ferkrum/opt/anaconda3/bin/python -m pip install [options] -r <requirements file> [package-index-options] ...\n",
      "  /Users/ferkrum/opt/anaconda3/bin/python -m pip install [options] [-e] <vcs project url> ...\n",
      "  /Users/ferkrum/opt/anaconda3/bin/python -m pip install [options] [-e] <local project path> ...\n",
      "  /Users/ferkrum/opt/anaconda3/bin/python -m pip install [options] <archive url/path> ...\n",
      "\n",
      "no such option: -u\n",
      "Note: you may need to restart the kernel to use updated packages.\n"
     ]
    }
   ],
   "source": [
    "pip install -u selenium"
   ]
  }
 ],
 "metadata": {
  "kernelspec": {
   "display_name": "Python 3.9.7 ('base')",
   "language": "python",
   "name": "python3"
  },
  "language_info": {
   "codemirror_mode": {
    "name": "ipython",
    "version": 3
   },
   "file_extension": ".py",
   "mimetype": "text/x-python",
   "name": "python",
   "nbconvert_exporter": "python",
   "pygments_lexer": "ipython3",
   "version": "3.9.7"
  },
  "orig_nbformat": 4,
  "vscode": {
   "interpreter": {
    "hash": "bab27f018264d42d0d9cf47bb51ab1458d05f51b07cd5fe78e016d228db192ea"
   }
  }
 },
 "nbformat": 4,
 "nbformat_minor": 2
}

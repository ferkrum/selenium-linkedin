{
 "cells": [
  {
   "cell_type": "code",
   "execution_count": 92,
   "metadata": {},
   "outputs": [],
   "source": [
    "# importações de bibliotecas \n",
    "from selenium import webdriver\n",
    "from time import sleep"
   ]
  },
  {
   "cell_type": "code",
   "execution_count": 93,
   "metadata": {},
   "outputs": [],
   "source": [
    "# parametros\n",
    "URL = 'https://br.linkedin.com/jobs/ci%C3%AAncia-de-dados-vagas?position=1&pageNum=0'"
   ]
  },
  {
   "cell_type": "code",
   "execution_count": 94,
   "metadata": {},
   "outputs": [],
   "source": [
    "driver = webdriver.Chrome()\n",
    "# tempo de espera para carregamento da página\n",
    "driver.implicitly_wait(10)"
   ]
  },
  {
   "cell_type": "code",
   "execution_count": 95,
   "metadata": {},
   "outputs": [],
   "source": [
    "driver.get(URL)"
   ]
  },
  {
   "cell_type": "code",
   "execution_count": 96,
   "metadata": {},
   "outputs": [
    {
     "name": "stdout",
     "output_type": "stream",
     "text": [
      "16\n"
     ]
    }
   ],
   "source": [
    "resultados = driver.find_elements_by_class_name('base-card__full-link')\n",
    "#quantidade de elementos\n",
    "print(len(resultados))\n",
    "#print(resultados)"
   ]
  },
  {
   "cell_type": "code",
   "execution_count": 97,
   "metadata": {},
   "outputs": [
    {
     "name": "stdout",
     "output_type": "stream",
     "text": [
      "1,2,3,4,5,6,7,8,9,10,11,12,13,14,15,16,Num resultados: 34   Num desc. salvos: 16\n",
      "17,18,19,20,21,22,23,24,25,26,27,28,29,30,31,32,33,34,Num resultados: 56   Num desc. salvos: 34\n",
      "35,36,37,38,39,40,"
     ]
    }
   ],
   "source": [
    "listagem_ofertas = []\n",
    "contador = 0\n",
    "resultados = driver.find_elements_by_class_name('base-card__full-link')\n",
    "while True:\n",
    "    \n",
    "    for i in resultados[len(listagem_ofertas):]:\n",
    "        i.click()\n",
    "        sleep(2)\n",
    "        #print(driver.current_url) #para ir monitorando os links obtidos \n",
    "        descricao = driver.current_url + ' ' + driver.find_element_by_class_name('decorated-job-posting__details').text\n",
    "        listagem_ofertas.append(descricao)\n",
    "        contador+=1\n",
    "        print(contador, end=',')\n",
    "    \n",
    "    resultados = driver.find_elements_by_class_name('base-card__full-link')\n",
    "    print(f'Num resultados: {len(resultados)}', end='   ')\n",
    "    print(f'Num desc. salvos: {len(listagem_ofertas)}')\n",
    "\n",
    "    if len(resultados) == len(listagem_ofertas):\n",
    "        break\n",
    "\n",
    "driver.quit()"
   ]
  },
  {
   "cell_type": "code",
   "execution_count": null,
   "metadata": {},
   "outputs": [],
   "source": [
    "\n",
    "print(f'Quantidade de ofertas coletadas: {len(listagem_ofertas)}')"
   ]
  },
  {
   "cell_type": "markdown",
   "metadata": {},
   "source": [
    "## Exportando resultado como texto: "
   ]
  },
  {
   "cell_type": "code",
   "execution_count": null,
   "metadata": {},
   "outputs": [],
   "source": [
    "# primeiro colapsamos toda a lista em um único texto com o comando .join \n",
    "listagem_total = '\\n'.join(listagem_ofertas)"
   ]
  },
  {
   "cell_type": "markdown",
   "metadata": {},
   "source": [
    "Salvando em um arquivo:"
   ]
  },
  {
   "cell_type": "code",
   "execution_count": null,
   "metadata": {},
   "outputs": [],
   "source": [
    "with open('listagemTotalVagas.txt', 'w') as f:\n",
    "    f.write(listagem_total)"
   ]
  }
 ],
 "metadata": {
  "kernelspec": {
   "display_name": "Python 3.9.7 ('base')",
   "language": "python",
   "name": "python3"
  },
  "language_info": {
   "codemirror_mode": {
    "name": "ipython",
    "version": 3
   },
   "file_extension": ".py",
   "mimetype": "text/x-python",
   "name": "python",
   "nbconvert_exporter": "python",
   "pygments_lexer": "ipython3",
   "version": "3.9.7"
  },
  "orig_nbformat": 4,
  "vscode": {
   "interpreter": {
    "hash": "bab27f018264d42d0d9cf47bb51ab1458d05f51b07cd5fe78e016d228db192ea"
   }
  }
 },
 "nbformat": 4,
 "nbformat_minor": 2
}

{
 "cells": [
  {
   "cell_type": "markdown",
   "metadata": {},
   "source": [
    "# estudando Selenium"
   ]
  },
  {
   "cell_type": "markdown",
   "metadata": {},
   "source": [
    "O Selenium é utilizado originalmente para fazer teste de aplicações web.\n",
    "\n",
    "Requisitos: \n",
    "1. Anaconda;\n",
    "2. [Selenium](https://www.selenium.dev/documentation/webdriver/getting_started/install_drivers/). (pip install selenium)\n",
    "3. [Chromedriver](https://chromedriver.chromium.org/downloads). \n",
    "    * O Chrome deve estar atualizado também. \n",
    "    Pra isso, checar em \"help, sobre\". Confirmar se está atualizado E qual a versão atual. No caso, a versão é \"103\".\n",
    "    Devemos baixar o chromedriver correspondente à versão do Google Chrome.\n",
    "    * Copiar o chromedriver para uma pasta acessível pelo sistema. \n",
    "    checar o path no terminal digitando: \"echo $PATH\"\n",
    "    No mac, estou usando a pasta /users/user/anaconda3/bin \n",
    "4. Para testar:\n",
    "    * Executar \"ipython\"\n",
    "    * Deverá abrir espaço para programação.\n",
    "    * testar importação do selenium com o comando:\n",
    "        * \"from selenium import webdriver\" (deverá executar sem erros)\n",
    "    * executar abrir uma janela do chrome com o comando:\n",
    "        * webdriver.Chrome()\n"
   ]
  },
  {
   "cell_type": "code",
   "execution_count": 10,
   "metadata": {},
   "outputs": [
    {
     "name": "stdout",
     "output_type": "stream",
     "text": [
      "Requirement already satisfied: selenium==3.141.0 in /Users/ferkrum/opt/anaconda3/lib/python3.9/site-packages (3.141.0)\n",
      "Requirement already satisfied: urllib3 in /Users/ferkrum/opt/anaconda3/lib/python3.9/site-packages (from selenium==3.141.0) (1.26.7)\n",
      "Note: you may need to restart the kernel to use updated packages.\n"
     ]
    }
   ],
   "source": [
    "# instalando selenium\n",
    "%pip install selenium==3.141.0"
   ]
  },
  {
   "cell_type": "markdown",
   "metadata": {},
   "source": [
    "## Para acessar informações de uma página.\n",
    "Seguimos usando o selenium."
   ]
  },
  {
   "cell_type": "code",
   "execution_count": 11,
   "metadata": {},
   "outputs": [],
   "source": [
    "from selenium import webdriver\n",
    "driver = webdriver.Chrome()\n",
    "driver.get('http://google.com')"
   ]
  },
  {
   "cell_type": "code",
   "execution_count": 12,
   "metadata": {},
   "outputs": [],
   "source": [
    "barra_pesquisa = '/html/body/div[1]/div[3]/form/div[1]/div[1]/div[1]/div/div[2]/input'\n",
    "#el_bp é a barra de pesquisa\n",
    "el_bp = driver.find_element_by_xpath(barra_pesquisa)"
   ]
  },
  {
   "cell_type": "code",
   "execution_count": 15,
   "metadata": {},
   "outputs": [],
   "source": [
    "el_bp = driver.find_element_by_xpath(barra_pesquisa)\n",
    "el_bp.send_keys('selenium')"
   ]
  },
  {
   "cell_type": "code",
   "execution_count": 16,
   "metadata": {},
   "outputs": [],
   "source": [
    "el_bp.clear()"
   ]
  },
  {
   "cell_type": "code",
   "execution_count": 17,
   "metadata": {},
   "outputs": [],
   "source": [
    "el_bp.send_keys('vagas ciencia de dados\\n')"
   ]
  },
  {
   "cell_type": "markdown",
   "metadata": {},
   "source": [
    "# Busando informações no Linkedin: \n",
    "\n",
    "Buscando por ciência de dados na página (https://br.linkedin.com/jobs/ci%C3%AAncia-de-dados-vagas?position=1&pageNum=0)."
   ]
  },
  {
   "cell_type": "code",
   "execution_count": 139,
   "metadata": {},
   "outputs": [],
   "source": [
    "driver.get('https://br.linkedin.com/jobs/ci%C3%AAncia-de-dados-vagas?position=1&pageNum=0')"
   ]
  },
  {
   "cell_type": "code",
   "execution_count": null,
   "metadata": {},
   "outputs": [],
   "source": [
    "#buscando elementos usando o xpath\n",
    "driver.find_element_by_xpath('/html/body/div[1]/div/section/div[2]/div/section[1]/div/div')\n",
    "descricao = driver.find_element_by_class_name('description')\n",
    "descricao.text\n",
    "print(descricao.text)"
   ]
  },
  {
   "cell_type": "markdown",
   "metadata": {},
   "source": [
    "Obtendo listagem de respostas "
   ]
  },
  {
   "cell_type": "code",
   "execution_count": 141,
   "metadata": {},
   "outputs": [],
   "source": [
    "# Aqui vasculha elemento por elemento.\n",
    "resultados = driver.find_elements_by_class_name('base-card')"
   ]
  },
  {
   "cell_type": "code",
   "execution_count": 142,
   "metadata": {},
   "outputs": [
    {
     "data": {
      "text/plain": [
       "25"
      ]
     },
     "execution_count": 142,
     "metadata": {},
     "output_type": "execute_result"
    }
   ],
   "source": [
    "#quantidade de elementos\n",
    "len(resultados)"
   ]
  },
  {
   "cell_type": "code",
   "execution_count": 143,
   "metadata": {},
   "outputs": [],
   "source": [
    "#Aqui selecionamos somente a barra da esquerda, dos resultados das empresas\n",
    "result_list = driver.find_element_by_class_name('two-pane-serp-page__results-list')"
   ]
  },
  {
   "cell_type": "code",
   "execution_count": 145,
   "metadata": {},
   "outputs": [
    {
     "data": {
      "text/plain": [
       "25"
      ]
     },
     "execution_count": 145,
     "metadata": {},
     "output_type": "execute_result"
    }
   ],
   "source": [
    "resultados = result_list.find_elements_by_tag_name('li')\n",
    "len(resultados)"
   ]
  },
  {
   "cell_type": "code",
   "execution_count": 44,
   "metadata": {},
   "outputs": [],
   "source": [
    "#explorando os resultados...\n",
    "resultados[1].click()\n"
   ]
  },
  {
   "cell_type": "code",
   "execution_count": 147,
   "metadata": {},
   "outputs": [
    {
     "data": {
      "text/plain": [
       "'Estágio em Ciência de Dados\\nEstágio em Ciência de Dados\\nGrhats Recursos Humanos\\nSorocaba, SP\\nSeja um dos primeiros a se candidatar\\nHá 6 horas'"
      ]
     },
     "execution_count": 147,
     "metadata": {},
     "output_type": "execute_result"
    }
   ],
   "source": [
    "resultados[0].text"
   ]
  },
  {
   "cell_type": "markdown",
   "metadata": {},
   "source": [
    "# Criando script para armazenar todas informações"
   ]
  },
  {
   "cell_type": "code",
   "execution_count": null,
   "metadata": {},
   "outputs": [],
   "source": [
    "for i in resultados:\n",
    "    print(i.text)\n",
    "    i.click()"
   ]
  },
  {
   "cell_type": "code",
   "execution_count": null,
   "metadata": {},
   "outputs": [],
   "source": [
    "listagem_ofertas = []\n",
    "for i in resultados:\n",
    "    i.click()\n",
    "    descricao = driver.find_element_by_class_name('description')\n",
    "    listagem_ofertas.append(descricao.text)"
   ]
  },
  {
   "cell_type": "code",
   "execution_count": null,
   "metadata": {},
   "outputs": [],
   "source": [
    "len(listagem_ofertas)"
   ]
  },
  {
   "cell_type": "code",
   "execution_count": 135,
   "metadata": {},
   "outputs": [
    {
     "data": {
      "text/plain": [
       "'Requisitos Cursando ensino superior em Matemárica Matemática Aplicada Estatística Ciência da Computação ou áreas correlatas. Experiência profissional ou escolar com Microsoft Excel. Experiência profissional ou escolar em linguagem de programação. Linguagens Python e SQL são diferenciais. Conhecimento em sistema operacional Linux (terminal).\\n\\n\\n\\n\\n\\nNão informado\\n\\n\\n\\n\\n\\nA combinar\\n\\n\\n\\nEstágio em Ciência da Computação\\n\\n\\n\\nGrhats Recursos Humanos\\n\\nConsultoria de Recursos Humanos.\\n\\n\\n\\nRecursos Humanos/ Recrutamento e seleção'"
      ]
     },
     "execution_count": 135,
     "metadata": {},
     "output_type": "execute_result"
    }
   ],
   "source": [
    "listagem_ofertas[0]"
   ]
  },
  {
   "cell_type": "code",
   "execution_count": 76,
   "metadata": {},
   "outputs": [
    {
     "data": {
      "text/plain": [
       "'Buscamos um Cientista de Dados para atuar nas frentes de inovação e tendências de mercado, com experiência em previsão de dados para área financeira do negócio, deixando a análise financeira do negócio preditiva.\\n\\nPerfil com curiosidade, interesse por assuntos de Ciência de Dados, forte pensamento analítico, organização, trabalho em equipe e boa comunicação.\\n\\n\\n\\n\\n\\nExibir mais\\nTipo de emprego\\nTempo integral\\nAs indicações dobram suas chances de conseguir uma entrevista na Timeware\\nVeja quem você conhece'"
      ]
     },
     "execution_count": 76,
     "metadata": {},
     "output_type": "execute_result"
    }
   ],
   "source": [
    "resultados[1].click()\n",
    "descricao = driver.find_element_by_class_name('decorated-job-posting__details')\n",
    "descricao.text"
   ]
  },
  {
   "cell_type": "code",
   "execution_count": 118,
   "metadata": {},
   "outputs": [
    {
     "data": {
      "text/plain": [
       "'Timeware'"
      ]
     },
     "execution_count": 118,
     "metadata": {},
     "output_type": "execute_result"
    }
   ],
   "source": [
    "resultados[1].text.split('\\n')[2]"
   ]
  },
  {
   "cell_type": "code",
   "execution_count": null,
   "metadata": {},
   "outputs": [],
   "source": [
    "listagem_empresas = []\n",
    "for i in resultados:\n",
    "    i.click()\n",
    "    print(i.text)\n",
    "    listagem_empresas.append(descricao.text)"
   ]
  },
  {
   "cell_type": "code",
   "execution_count": 119,
   "metadata": {},
   "outputs": [
    {
     "data": {
      "text/plain": [
       "'https://br.linkedin.com/jobs/ci%C3%AAncia-de-dados-vagas?position=2&pageNum=0&currentJobId=3161460979'"
      ]
     },
     "execution_count": 119,
     "metadata": {},
     "output_type": "execute_result"
    }
   ],
   "source": [
    "driver.current_url"
   ]
  }
 ],
 "metadata": {
  "kernelspec": {
   "display_name": "Python 3.9.7 ('base')",
   "language": "python",
   "name": "python3"
  },
  "language_info": {
   "codemirror_mode": {
    "name": "ipython",
    "version": 3
   },
   "file_extension": ".py",
   "mimetype": "text/x-python",
   "name": "python",
   "nbconvert_exporter": "python",
   "pygments_lexer": "ipython3",
   "version": "3.9.7"
  },
  "orig_nbformat": 4,
  "vscode": {
   "interpreter": {
    "hash": "bab27f018264d42d0d9cf47bb51ab1458d05f51b07cd5fe78e016d228db192ea"
   }
  }
 },
 "nbformat": 4,
 "nbformat_minor": 2
}
